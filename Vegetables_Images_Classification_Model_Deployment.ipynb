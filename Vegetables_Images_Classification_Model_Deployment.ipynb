{
  "nbformat": 4,
  "nbformat_minor": 0,
  "metadata": {
    "colab": {
      "provenance": [],
      "include_colab_link": true
    },
    "kernelspec": {
      "name": "python3",
      "display_name": "Python 3"
    },
    "language_info": {
      "name": "python"
    },
    "accelerator": "GPU",
    "gpuClass": "standard"
  },
  "cells": [
    {
      "cell_type": "markdown",
      "metadata": {
        "id": "view-in-github",
        "colab_type": "text"
      },
      "source": [
        "<a href=\"https://colab.research.google.com/github/randiijulian/Vegetable-Images-Classification-Model-Deployment/blob/main/Vegetables_Images_Classification_Model_Deployment.ipynb\" target=\"_parent\"><img src=\"https://colab.research.google.com/assets/colab-badge.svg\" alt=\"Open In Colab\"/></a>"
      ]
    },
    {
      "cell_type": "markdown",
      "source": [
        "Nama : Randi Julian Saputra\n",
        "\n",
        "Github : github.com/randiijulian\n",
        "\n",
        "## Final Project Dicoding Pengembangan ML\n",
        "Image Classification Model Deployment"
      ],
      "metadata": {
        "id": "LAxDEdUzpBPv"
      }
    },
    {
      "cell_type": "code",
      "source": [
        "from google.colab import drive\n",
        "drive.mount('/content/drive')"
      ],
      "metadata": {
        "id": "7HYTxMKIEbJF",
        "colab": {
          "base_uri": "https://localhost:8080/"
        },
        "outputId": "1d6b3782-b239-4e4b-b8cb-ba907121c81b"
      },
      "execution_count": null,
      "outputs": [
        {
          "output_type": "stream",
          "name": "stdout",
          "text": [
            "Mounted at /content/drive\n"
          ]
        }
      ]
    },
    {
      "cell_type": "code",
      "source": [
        "# install split-folders agar mempermudah membagi kategori kebeberapa file\n",
        "!pip install split-folders"
      ],
      "metadata": {
        "colab": {
          "base_uri": "https://localhost:8080/"
        },
        "id": "rIPVGxugxKjx",
        "outputId": "6172bc1f-0bb8-4ecd-f042-a6ae202e5e72"
      },
      "execution_count": null,
      "outputs": [
        {
          "output_type": "stream",
          "name": "stdout",
          "text": [
            "Looking in indexes: https://pypi.org/simple, https://us-python.pkg.dev/colab-wheels/public/simple/\n",
            "Collecting split-folders\n",
            "  Downloading split_folders-0.5.1-py3-none-any.whl (8.4 kB)\n",
            "Installing collected packages: split-folders\n",
            "Successfully installed split-folders-0.5.1\n"
          ]
        }
      ]
    },
    {
      "cell_type": "code",
      "execution_count": null,
      "metadata": {
        "id": "tSf7LTZ9DFh2"
      },
      "outputs": [],
      "source": [
        "#Import Library\n",
        "import zipfile, os\n",
        "import tensorflow as tf\n",
        "import numpy as np\n",
        "import matplotlib.pyplot as plt\n",
        "import matplotlib.image as mpimg\n",
        "import splitfolders"
      ]
    },
    {
      "cell_type": "code",
      "source": [
        "#Pastikan Tensorflow versi 2 atau lebih\n",
        "print(tf.__version__)"
      ],
      "metadata": {
        "colab": {
          "base_uri": "https://localhost:8080/"
        },
        "id": "lNk_QaVZ3l95",
        "outputId": "6105d260-3695-4565-8283-88943b62c868"
      },
      "execution_count": null,
      "outputs": [
        {
          "output_type": "stream",
          "name": "stdout",
          "text": [
            "2.9.2\n"
          ]
        }
      ]
    },
    {
      "cell_type": "code",
      "source": [
        "from sklearn.model_selection import train_test_split #Library untuk split data training dan validasi\n",
        "from tensorflow.keras.preprocessing.image import ImageDataGenerator #Library untuk augmentasi dan generate gambar\n",
        "from tensorflow.keras.optimizers import RMSprop #Library untuk optimasi data\n",
        "from tensorflow.keras.models import Model, Sequential\n",
        "from tensorflow.keras.layers import Conv2D, MaxPooling2D, Activation, Dense, Flatten, Input\n",
        "from tensorflow.keras.layers import Dropout\n",
        "from tensorflow.keras.optimizers import Adam\n",
        "#Library untuk inputan gambar dan grafik\n",
        "from google.colab import files\n",
        "from keras.preprocessing import image"
      ],
      "metadata": {
        "id": "Y6rf2ykWESnt"
      },
      "execution_count": null,
      "outputs": []
    },
    {
      "cell_type": "code",
      "source": [
        "!pip install -U -q kaggle\n",
        "!mkdir -p ~/.kaggle\n",
        "from google.colab import files\n",
        "files.upload()"
      ],
      "metadata": {
        "colab": {
          "base_uri": "https://localhost:8080/",
          "height": 91
        },
        "id": "sXh43_N2C9jY",
        "outputId": "14ee1382-a729-4c0f-b7f8-a37e394faf49"
      },
      "execution_count": null,
      "outputs": [
        {
          "output_type": "display_data",
          "data": {
            "text/plain": [
              "<IPython.core.display.HTML object>"
            ],
            "text/html": [
              "\n",
              "     <input type=\"file\" id=\"files-7b75df82-a2f7-46a6-97ef-2a78136f29e7\" name=\"files[]\" multiple disabled\n",
              "        style=\"border:none\" />\n",
              "     <output id=\"result-7b75df82-a2f7-46a6-97ef-2a78136f29e7\">\n",
              "      Upload widget is only available when the cell has been executed in the\n",
              "      current browser session. Please rerun this cell to enable.\n",
              "      </output>\n",
              "      <script>// Copyright 2017 Google LLC\n",
              "//\n",
              "// Licensed under the Apache License, Version 2.0 (the \"License\");\n",
              "// you may not use this file except in compliance with the License.\n",
              "// You may obtain a copy of the License at\n",
              "//\n",
              "//      http://www.apache.org/licenses/LICENSE-2.0\n",
              "//\n",
              "// Unless required by applicable law or agreed to in writing, software\n",
              "// distributed under the License is distributed on an \"AS IS\" BASIS,\n",
              "// WITHOUT WARRANTIES OR CONDITIONS OF ANY KIND, either express or implied.\n",
              "// See the License for the specific language governing permissions and\n",
              "// limitations under the License.\n",
              "\n",
              "/**\n",
              " * @fileoverview Helpers for google.colab Python module.\n",
              " */\n",
              "(function(scope) {\n",
              "function span(text, styleAttributes = {}) {\n",
              "  const element = document.createElement('span');\n",
              "  element.textContent = text;\n",
              "  for (const key of Object.keys(styleAttributes)) {\n",
              "    element.style[key] = styleAttributes[key];\n",
              "  }\n",
              "  return element;\n",
              "}\n",
              "\n",
              "// Max number of bytes which will be uploaded at a time.\n",
              "const MAX_PAYLOAD_SIZE = 100 * 1024;\n",
              "\n",
              "function _uploadFiles(inputId, outputId) {\n",
              "  const steps = uploadFilesStep(inputId, outputId);\n",
              "  const outputElement = document.getElementById(outputId);\n",
              "  // Cache steps on the outputElement to make it available for the next call\n",
              "  // to uploadFilesContinue from Python.\n",
              "  outputElement.steps = steps;\n",
              "\n",
              "  return _uploadFilesContinue(outputId);\n",
              "}\n",
              "\n",
              "// This is roughly an async generator (not supported in the browser yet),\n",
              "// where there are multiple asynchronous steps and the Python side is going\n",
              "// to poll for completion of each step.\n",
              "// This uses a Promise to block the python side on completion of each step,\n",
              "// then passes the result of the previous step as the input to the next step.\n",
              "function _uploadFilesContinue(outputId) {\n",
              "  const outputElement = document.getElementById(outputId);\n",
              "  const steps = outputElement.steps;\n",
              "\n",
              "  const next = steps.next(outputElement.lastPromiseValue);\n",
              "  return Promise.resolve(next.value.promise).then((value) => {\n",
              "    // Cache the last promise value to make it available to the next\n",
              "    // step of the generator.\n",
              "    outputElement.lastPromiseValue = value;\n",
              "    return next.value.response;\n",
              "  });\n",
              "}\n",
              "\n",
              "/**\n",
              " * Generator function which is called between each async step of the upload\n",
              " * process.\n",
              " * @param {string} inputId Element ID of the input file picker element.\n",
              " * @param {string} outputId Element ID of the output display.\n",
              " * @return {!Iterable<!Object>} Iterable of next steps.\n",
              " */\n",
              "function* uploadFilesStep(inputId, outputId) {\n",
              "  const inputElement = document.getElementById(inputId);\n",
              "  inputElement.disabled = false;\n",
              "\n",
              "  const outputElement = document.getElementById(outputId);\n",
              "  outputElement.innerHTML = '';\n",
              "\n",
              "  const pickedPromise = new Promise((resolve) => {\n",
              "    inputElement.addEventListener('change', (e) => {\n",
              "      resolve(e.target.files);\n",
              "    });\n",
              "  });\n",
              "\n",
              "  const cancel = document.createElement('button');\n",
              "  inputElement.parentElement.appendChild(cancel);\n",
              "  cancel.textContent = 'Cancel upload';\n",
              "  const cancelPromise = new Promise((resolve) => {\n",
              "    cancel.onclick = () => {\n",
              "      resolve(null);\n",
              "    };\n",
              "  });\n",
              "\n",
              "  // Wait for the user to pick the files.\n",
              "  const files = yield {\n",
              "    promise: Promise.race([pickedPromise, cancelPromise]),\n",
              "    response: {\n",
              "      action: 'starting',\n",
              "    }\n",
              "  };\n",
              "\n",
              "  cancel.remove();\n",
              "\n",
              "  // Disable the input element since further picks are not allowed.\n",
              "  inputElement.disabled = true;\n",
              "\n",
              "  if (!files) {\n",
              "    return {\n",
              "      response: {\n",
              "        action: 'complete',\n",
              "      }\n",
              "    };\n",
              "  }\n",
              "\n",
              "  for (const file of files) {\n",
              "    const li = document.createElement('li');\n",
              "    li.append(span(file.name, {fontWeight: 'bold'}));\n",
              "    li.append(span(\n",
              "        `(${file.type || 'n/a'}) - ${file.size} bytes, ` +\n",
              "        `last modified: ${\n",
              "            file.lastModifiedDate ? file.lastModifiedDate.toLocaleDateString() :\n",
              "                                    'n/a'} - `));\n",
              "    const percent = span('0% done');\n",
              "    li.appendChild(percent);\n",
              "\n",
              "    outputElement.appendChild(li);\n",
              "\n",
              "    const fileDataPromise = new Promise((resolve) => {\n",
              "      const reader = new FileReader();\n",
              "      reader.onload = (e) => {\n",
              "        resolve(e.target.result);\n",
              "      };\n",
              "      reader.readAsArrayBuffer(file);\n",
              "    });\n",
              "    // Wait for the data to be ready.\n",
              "    let fileData = yield {\n",
              "      promise: fileDataPromise,\n",
              "      response: {\n",
              "        action: 'continue',\n",
              "      }\n",
              "    };\n",
              "\n",
              "    // Use a chunked sending to avoid message size limits. See b/62115660.\n",
              "    let position = 0;\n",
              "    do {\n",
              "      const length = Math.min(fileData.byteLength - position, MAX_PAYLOAD_SIZE);\n",
              "      const chunk = new Uint8Array(fileData, position, length);\n",
              "      position += length;\n",
              "\n",
              "      const base64 = btoa(String.fromCharCode.apply(null, chunk));\n",
              "      yield {\n",
              "        response: {\n",
              "          action: 'append',\n",
              "          file: file.name,\n",
              "          data: base64,\n",
              "        },\n",
              "      };\n",
              "\n",
              "      let percentDone = fileData.byteLength === 0 ?\n",
              "          100 :\n",
              "          Math.round((position / fileData.byteLength) * 100);\n",
              "      percent.textContent = `${percentDone}% done`;\n",
              "\n",
              "    } while (position < fileData.byteLength);\n",
              "  }\n",
              "\n",
              "  // All done.\n",
              "  yield {\n",
              "    response: {\n",
              "      action: 'complete',\n",
              "    }\n",
              "  };\n",
              "}\n",
              "\n",
              "scope.google = scope.google || {};\n",
              "scope.google.colab = scope.google.colab || {};\n",
              "scope.google.colab._files = {\n",
              "  _uploadFiles,\n",
              "  _uploadFilesContinue,\n",
              "};\n",
              "})(self);\n",
              "</script> "
            ]
          },
          "metadata": {}
        },
        {
          "output_type": "stream",
          "name": "stdout",
          "text": [
            "Saving kaggle.json to kaggle.json\n"
          ]
        },
        {
          "output_type": "execute_result",
          "data": {
            "text/plain": [
              "{'kaggle.json': b'{\"username\":\"randijuliansaputra\",\"key\":\"2f7e1d60b96672fa5ed4a4967c3cc72a\"}'}"
            ]
          },
          "metadata": {},
          "execution_count": 6
        }
      ]
    },
    {
      "cell_type": "code",
      "source": [
        "# ! chmod 600 /content/kaggle.json"
      ],
      "metadata": {
        "id": "dHIxzS6nXfbr"
      },
      "execution_count": null,
      "outputs": []
    },
    {
      "cell_type": "code",
      "source": [
        "!cp kaggle.json ~/.kaggle/\n",
        "!kaggle datasets download -d misrakahmed/vegetable-image-dataset\n",
        "!ls"
      ],
      "metadata": {
        "colab": {
          "base_uri": "https://localhost:8080/"
        },
        "id": "y2buF9G5XX6h",
        "outputId": "96b55f84-c297-47ed-c019-5489766fa215"
      },
      "execution_count": null,
      "outputs": [
        {
          "output_type": "stream",
          "name": "stdout",
          "text": [
            "Downloading vegetable-image-dataset.zip to /content\n",
            "100% 534M/534M [00:24<00:00, 24.7MB/s]\n",
            "100% 534M/534M [00:24<00:00, 23.1MB/s]\n",
            "drive  kaggle.json  sample_data  vegetable-image-dataset.zip\n"
          ]
        }
      ]
    },
    {
      "cell_type": "code",
      "source": [
        "#Ekstrasi pada file zip sebelumnya\n",
        "zip_file = zipfile.ZipFile('/content/vegetable-image-dataset.zip', 'r')\n",
        "zip_file.extractall('/content')\n",
        "zip_file.close()"
      ],
      "metadata": {
        "id": "ZwFcDIXyUtIm"
      },
      "execution_count": null,
      "outputs": []
    },
    {
      "cell_type": "code",
      "source": [
        "base_folder = \"/content/Vegetable Images/train\"\n",
        "train_folder = \"/content/output/train\"\n",
        "validation_folder = \"/content/output/val\""
      ],
      "metadata": {
        "id": "nTnQMUS3Utmg"
      },
      "execution_count": null,
      "outputs": []
    },
    {
      "cell_type": "code",
      "source": [
        "# memisahkan folder dataset menjadi train 80% dan val 20%\n",
        "splitfolders.ratio(base_folder, output=\"output\", seed=1337, ratio=(.8, .2), group_prefix=None)"
      ],
      "metadata": {
        "colab": {
          "base_uri": "https://localhost:8080/"
        },
        "id": "ViVWc9QByOjT",
        "outputId": "8207e090-e673-4693-ec78-4217fa7957bb"
      },
      "execution_count": null,
      "outputs": [
        {
          "output_type": "stream",
          "name": "stderr",
          "text": [
            "Copying files: 15000 files [00:02, 6372.44 files/s]\n"
          ]
        }
      ]
    },
    {
      "cell_type": "code",
      "source": [
        "# melihat struktur data pada folder train\n",
        "os.listdir('/content/output/train')"
      ],
      "metadata": {
        "colab": {
          "base_uri": "https://localhost:8080/"
        },
        "id": "r2PZj6TRyQbf",
        "outputId": "a7caf009-0691-4513-ea53-d068be5a823f"
      },
      "execution_count": null,
      "outputs": [
        {
          "output_type": "execute_result",
          "data": {
            "text/plain": [
              "['Capsicum',\n",
              " 'Potato',\n",
              " 'Bean',\n",
              " 'Bitter_Gourd',\n",
              " 'Cabbage',\n",
              " 'Cauliflower',\n",
              " 'Pumpkin',\n",
              " 'Broccoli',\n",
              " 'Tomato',\n",
              " 'Carrot',\n",
              " 'Radish',\n",
              " 'Papaya',\n",
              " 'Brinjal',\n",
              " 'Cucumber',\n",
              " 'Bottle_Gourd']"
            ]
          },
          "metadata": {},
          "execution_count": 12
        }
      ]
    },
    {
      "cell_type": "code",
      "source": [
        "# melihat struktur data pada folder validation\n",
        "os.listdir('/content/output/val')"
      ],
      "metadata": {
        "colab": {
          "base_uri": "https://localhost:8080/"
        },
        "id": "GnTi50GRyUUw",
        "outputId": "6c90e53f-322a-49ec-ecf6-faddb696b4ed"
      },
      "execution_count": null,
      "outputs": [
        {
          "output_type": "execute_result",
          "data": {
            "text/plain": [
              "['Capsicum',\n",
              " 'Potato',\n",
              " 'Bean',\n",
              " 'Bitter_Gourd',\n",
              " 'Cabbage',\n",
              " 'Cauliflower',\n",
              " 'Pumpkin',\n",
              " 'Broccoli',\n",
              " 'Tomato',\n",
              " 'Carrot',\n",
              " 'Radish',\n",
              " 'Papaya',\n",
              " 'Brinjal',\n",
              " 'Cucumber',\n",
              " 'Bottle_Gourd']"
            ]
          },
          "metadata": {},
          "execution_count": 13
        }
      ]
    },
    {
      "cell_type": "code",
      "source": [
        "#Folder train untuk masing-masing label\n",
        "train_Capsicum = os.path.join(train_folder, \"Capsicum\")\n",
        "train_Potato = os.path.join(train_folder, \"Potato\")\n",
        "train_Bean = os.path.join(train_folder, \"Bean\")\n",
        "train_Bitter_Gourd = os.path.join(train_folder, \"Bitter_Gourd\")\n",
        "train_Cabbage = os.path.join(train_folder, \"Cabbage\")\n",
        "train_Cauliflower = os.path.join(train_folder, \"Cauliflower\")\n",
        "train_Pumpkin = os.path.join(train_folder, \"Pumpkin\")\n",
        "train_Broccoli = os.path.join(train_folder, \"Broccoli\")\n",
        "train_Tomato = os.path.join(train_folder, \"Tomato\")\n",
        "train_Carrot = os.path.join(train_folder, \"Carrot\")\n",
        "train_Radish = os.path.join(train_folder, \"Radish\")\n",
        "train_Papaya = os.path.join(train_folder, \"Papaya\")\n",
        "train_Brinjal = os.path.join(train_folder, \"Brinjal\")\n",
        "train_Cucumber = os.path.join(train_folder, \"Cucumber\")\n",
        "train_Bottle_Gourd = os.path.join(train_folder, \"Bottle_Gourd\")\n",
        "\n",
        "#Folder validation untuk masing masing label\n",
        "validation_Capsicum = os.path.join(validation_folder, \"Capsicum\")\n",
        "validation_Potato = os.path.join(validation_folder, \"Potato\")\n",
        "validation_Bean = os.path.join(validation_folder, \"Bean\")\n",
        "validation_Bitter_Gourd = os.path.join(validation_folder, \"Bitter_Gourd\")\n",
        "validation_Cabbage = os.path.join(validation_folder, \"Cabbage\")\n",
        "validation_Cauliflower = os.path.join(validation_folder, \"Cauliflower\")\n",
        "validation_Pumpkin = os.path.join(validation_folder, \"Pumpkin\")\n",
        "validation_Broccoli = os.path.join(validation_folder, \"Broccoli\")\n",
        "validation_Tomato = os.path.join(validation_folder, \"Tomato\")\n",
        "validation_Carrot = os.path.join(validation_folder, \"Carrot\")\n",
        "validation_Radish = os.path.join(validation_folder, \"Radish\")\n",
        "validation_Papaya = os.path.join(validation_folder, \"Papaya\")\n",
        "validation_Brinjal = os.path.join(validation_folder, \"Brinjal\")\n",
        "validation_Cucumber = os.path.join(validation_folder, \"Cucumber\")\n",
        "validation_Bottle_Gourd = os.path.join(validation_folder, \"Bottle_Gourd\")"
      ],
      "metadata": {
        "id": "hiE638dmkBbs"
      },
      "execution_count": null,
      "outputs": []
    },
    {
      "cell_type": "code",
      "source": [
        "#Augmentasi dan generate gambar\n",
        "train_datagen = ImageDataGenerator(\n",
        "                    rescale=1./255,\n",
        "                    rotation_range=20,\n",
        "                    width_shift_range = 0.2,\n",
        "                    height_shift_range = 0.2,\n",
        "                    horizontal_flip=True,\n",
        "                    vertical_flip=True,\n",
        "                    shear_range = 0.2,\n",
        "                    fill_mode = 'nearest',\n",
        "                    zoom_range = 0.1)\n",
        " \n",
        "test_datagen = ImageDataGenerator(\n",
        "                    rescale=1./255)"
      ],
      "metadata": {
        "id": "I7ycnGu_l0xg"
      },
      "execution_count": null,
      "outputs": []
    },
    {
      "cell_type": "code",
      "source": [
        "#Persiapan Data train dan validasi dari folder yang telah dibuat\n",
        "train_generator = train_datagen.flow_from_directory(\n",
        "        train_folder,  # folder data train\n",
        "        target_size=(150, 150),  # scaling gambar menjadi 150*150 px\n",
        "        batch_size=32,\n",
        "        class_mode='categorical')  # karena kita merupakan masalah klasifikasi 3 kelas maka menggunakan class_mode = 'categorical'\n",
        "validation_generator = test_datagen.flow_from_directory(\n",
        "        validation_folder, # folder data validasi\n",
        "        target_size=(150, 150),  # scaling gambar menjadi 150*150 px\n",
        "        batch_size=32, \n",
        "        class_mode='categorical') # karena kita merupakan masalah klasifikasi 3 kelas maka menggunakan class_mode = 'categorical'"
      ],
      "metadata": {
        "id": "TYQnskuwnUMH",
        "colab": {
          "base_uri": "https://localhost:8080/"
        },
        "outputId": "4b8102d5-0fa9-40ea-a7ce-5dd13294bbdc"
      },
      "execution_count": null,
      "outputs": [
        {
          "output_type": "stream",
          "name": "stdout",
          "text": [
            "Found 12000 images belonging to 15 classes.\n",
            "Found 3000 images belonging to 15 classes.\n"
          ]
        }
      ]
    },
    {
      "cell_type": "code",
      "source": [
        "# membangun model CNN untuk klasifikasi gambar\n",
        "model = tf.keras.models.Sequential([\n",
        "    tf.keras.layers.Conv2D(32, (3,3), activation='relu', input_shape=(150, 150, 3)),\n",
        "    tf.keras.layers.MaxPooling2D(2, 2),\n",
        "\n",
        "    tf.keras.layers.Conv2D(64, (3,3), activation='relu'),\n",
        "    tf.keras.layers.MaxPooling2D(2,2),\n",
        "\n",
        "    tf.keras.layers.Conv2D(128, (3,3), activation='relu'),\n",
        "    tf.keras.layers.MaxPooling2D(2,2),\n",
        "\n",
        "    tf.keras.layers.Conv2D(128, (3,3), activation='relu'),\n",
        "    tf.keras.layers.MaxPooling2D(2,2),\n",
        "\n",
        "    tf.keras.layers.Flatten(),\n",
        "    Dropout(0.5),\n",
        "    tf.keras.layers.Dense(512, activation='relu'),\n",
        "    tf.keras.layers.Dense(15, activation='softmax')\n",
        "])"
      ],
      "metadata": {
        "id": "PwEBGDjqndks"
      },
      "execution_count": null,
      "outputs": []
    },
    {
      "cell_type": "code",
      "source": [
        "# Optimize the model use adam\n",
        "model.compile(loss='categorical_crossentropy',\n",
        "              optimizer=tf.optimizers.Adam(learning_rate=0.0001),\n",
        "              metrics=['accuracy'])"
      ],
      "metadata": {
        "id": "9eg61BSJniST"
      },
      "execution_count": null,
      "outputs": []
    },
    {
      "cell_type": "code",
      "source": [
        "#Callback untuk mencegah overfitting dengan menghentikan training, apabila telah terpenuhi\n",
        "class reduceOverfitting(tf.keras.callbacks.Callback):\n",
        "  def on_epoch_end(self, epoch, logs={}):\n",
        "    if(logs.get('accuracy') > 0.92 and logs.get('val_accuracy') > 0.92):\n",
        "      print(\"\\nStopped! Akurasi sudah mencapai 92%\")\n",
        "      self.model.stop_training = True\n",
        "stop = reduceOverfitting()"
      ],
      "metadata": {
        "id": "neWCNBf-6cpo"
      },
      "execution_count": null,
      "outputs": []
    },
    {
      "cell_type": "code",
      "source": [
        "plot = model.fit(\n",
        "    train_generator,\n",
        "    steps_per_epoch = train_generator.n//train_generator.batch_size, # 12000 gambar = batch_size * steps\n",
        "    epochs = 35,\n",
        "    validation_data = validation_generator,\n",
        "    validation_steps = validation_generator.n//validation_generator.batch_size, # 3000 gambar = batch_size * steps\n",
        "    verbose =2, #Menampilkan epoh\n",
        "    callbacks=[stop] #Memanggil fungsi callbacks apabila hasil akurasi diatas 96%\n",
        ")"
      ],
      "metadata": {
        "id": "IGPIoDsMnmJ7",
        "colab": {
          "base_uri": "https://localhost:8080/"
        },
        "outputId": "913d2a61-0d39-4972-bd19-a5e74b2d0361"
      },
      "execution_count": null,
      "outputs": [
        {
          "output_type": "stream",
          "name": "stdout",
          "text": [
            "Epoch 1/35\n",
            "375/375 - 88s - loss: 1.9283 - accuracy: 0.3285 - val_loss: 1.4049 - val_accuracy: 0.4805 - 88s/epoch - 235ms/step\n",
            "Epoch 2/35\n",
            "375/375 - 74s - loss: 1.3388 - accuracy: 0.5362 - val_loss: 0.9811 - val_accuracy: 0.6610 - 74s/epoch - 197ms/step\n",
            "Epoch 3/35\n",
            "375/375 - 74s - loss: 1.0270 - accuracy: 0.6473 - val_loss: 0.8468 - val_accuracy: 0.7040 - 74s/epoch - 197ms/step\n",
            "Epoch 4/35\n",
            "375/375 - 74s - loss: 0.8448 - accuracy: 0.7092 - val_loss: 0.6841 - val_accuracy: 0.7608 - 74s/epoch - 198ms/step\n",
            "Epoch 5/35\n",
            "375/375 - 75s - loss: 0.7359 - accuracy: 0.7521 - val_loss: 0.5896 - val_accuracy: 0.8017 - 75s/epoch - 200ms/step\n",
            "Epoch 6/35\n",
            "375/375 - 73s - loss: 0.6303 - accuracy: 0.7888 - val_loss: 0.4963 - val_accuracy: 0.8360 - 73s/epoch - 195ms/step\n",
            "Epoch 7/35\n",
            "375/375 - 73s - loss: 0.5702 - accuracy: 0.8101 - val_loss: 0.5486 - val_accuracy: 0.8105 - 73s/epoch - 195ms/step\n",
            "Epoch 8/35\n",
            "375/375 - 75s - loss: 0.5101 - accuracy: 0.8328 - val_loss: 0.4237 - val_accuracy: 0.8636 - 75s/epoch - 199ms/step\n",
            "Epoch 9/35\n",
            "375/375 - 74s - loss: 0.4493 - accuracy: 0.8510 - val_loss: 0.3869 - val_accuracy: 0.8737 - 74s/epoch - 196ms/step\n",
            "Epoch 10/35\n",
            "375/375 - 73s - loss: 0.4337 - accuracy: 0.8572 - val_loss: 0.3425 - val_accuracy: 0.8790 - 73s/epoch - 196ms/step\n",
            "Epoch 11/35\n",
            "375/375 - 75s - loss: 0.3952 - accuracy: 0.8715 - val_loss: 0.3484 - val_accuracy: 0.8864 - 75s/epoch - 200ms/step\n",
            "Epoch 12/35\n",
            "375/375 - 73s - loss: 0.3608 - accuracy: 0.8829 - val_loss: 0.2752 - val_accuracy: 0.9113 - 73s/epoch - 196ms/step\n",
            "Epoch 13/35\n",
            "375/375 - 73s - loss: 0.3495 - accuracy: 0.8855 - val_loss: 0.2726 - val_accuracy: 0.9143 - 73s/epoch - 195ms/step\n",
            "Epoch 14/35\n",
            "375/375 - 75s - loss: 0.3145 - accuracy: 0.8982 - val_loss: 0.2311 - val_accuracy: 0.9254 - 75s/epoch - 199ms/step\n",
            "Epoch 15/35\n",
            "375/375 - 74s - loss: 0.2978 - accuracy: 0.9001 - val_loss: 0.3086 - val_accuracy: 0.8948 - 74s/epoch - 196ms/step\n",
            "Epoch 16/35\n",
            "375/375 - 74s - loss: 0.2898 - accuracy: 0.9046 - val_loss: 0.1988 - val_accuracy: 0.9392 - 74s/epoch - 197ms/step\n",
            "Epoch 17/35\n",
            "375/375 - 75s - loss: 0.2738 - accuracy: 0.9098 - val_loss: 0.2343 - val_accuracy: 0.9251 - 75s/epoch - 199ms/step\n",
            "Epoch 18/35\n",
            "375/375 - 73s - loss: 0.2602 - accuracy: 0.9147 - val_loss: 0.1865 - val_accuracy: 0.9439 - 73s/epoch - 195ms/step\n",
            "Epoch 19/35\n",
            "375/375 - 73s - loss: 0.2506 - accuracy: 0.9193 - val_loss: 0.1792 - val_accuracy: 0.9462 - 73s/epoch - 196ms/step\n",
            "Epoch 20/35\n",
            "\n",
            "Stopped! Akurasi sudah mencapai 92%\n",
            "375/375 - 75s - loss: 0.2309 - accuracy: 0.9257 - val_loss: 0.1821 - val_accuracy: 0.9432 - 75s/epoch - 200ms/step\n"
          ]
        }
      ]
    },
    {
      "cell_type": "code",
      "source": [
        "# evaluasi model untuk accuracy dan loss\n",
        "eval_train = model.evaluate(train_generator)\n",
        "print(\"Test Accuracy: %.2f%%\" % (eval_train[1]*100))\n",
        "eval_validation = model.evaluate(validation_generator)\n",
        "print(\"Test Validation: %.2f%%\" % (eval_validation[1]*100))"
      ],
      "metadata": {
        "id": "LhbvXKhxy6WI",
        "colab": {
          "base_uri": "https://localhost:8080/"
        },
        "outputId": "c3dc466e-ef93-4b35-c4f7-f3771c7d8965"
      },
      "execution_count": null,
      "outputs": [
        {
          "output_type": "stream",
          "name": "stdout",
          "text": [
            "375/375 [==============================] - 68s 182ms/step - loss: 0.1832 - accuracy: 0.9425\n",
            "Test Accuracy: 94.25%\n",
            "94/94 [==============================] - 5s 54ms/step - loss: 0.1810 - accuracy: 0.9437\n",
            "Test Validation: 94.37%\n"
          ]
        }
      ]
    },
    {
      "cell_type": "code",
      "source": [
        "from tensorflow.keras.preprocessing import image\n",
        "#Input Gambar\n",
        "%matplotlib inline\n",
        "uploaded = files.upload()\n",
        " \n",
        "for fn in uploaded.keys():\n",
        " \n",
        "  # Predict Images\n",
        "  path = fn\n",
        "  img = image.load_img(path, target_size=(150,150))\n",
        "  imgplot = plt.imshow(img)\n",
        "  x = image.img_to_array(img)\n",
        "  x = np.expand_dims(x, axis=0)\n",
        " \n",
        "  images = np.vstack([x])\n",
        "  classes = model.predict(images, batch_size=10)\n",
        "  \n",
        "  print(fn)\n",
        "  if classes[0,0]!=0:\n",
        "    print('Ini Adalah Bean')\n",
        "  elif classes[0,1]!=0:\n",
        "    print('Ini Adalah Bitter_Gourd')\n",
        "  elif classes[0,2]!=0:\n",
        "    print('Ini Adalah Bottle_Gourd')\n",
        "  elif classes[0,3]!=0:\n",
        "    print('Ini Adalah Brinjal')\n",
        "  elif classes[0,4]!=0:\n",
        "    print('Ini Adalah Broccoli')\n",
        "  elif classes[0,5]!=0:\n",
        "    print('Ini Adalah Cabbage')\n",
        "  elif classes[0,6]!=0:\n",
        "    print('Ini Adalah Capsicum')\n",
        "  elif classes[0,7]!=0:\n",
        "    print('Ini Adalah Carrot')\n",
        "  elif classes[0,8]!=0:\n",
        "    print('Ini Adalah Cauliflower')\n",
        "  elif classes[0,9]!=0:\n",
        "    print('Ini Adalah Cucumber')\n",
        "  elif classes[0,10]!=0:\n",
        "    print('Ini Adalah Papaya')\n",
        "  elif classes[0,11]!=0:\n",
        "    print('Ini Adalah Potato')\n",
        "  elif classes[0,12]!=0:\n",
        "    print('Ini Adalah Oumkin')\n",
        "  elif classes[0,13]!=0:\n",
        "    print('Ini Adalah Radish')\n",
        "  else:\n",
        "    print('Ini Adalah Tomato')"
      ],
      "metadata": {
        "id": "jiTn44XUnn3D",
        "colab": {
          "base_uri": "https://localhost:8080/",
          "height": 378
        },
        "outputId": "baafc3c6-3ae4-4681-841f-4dc1587481b6"
      },
      "execution_count": null,
      "outputs": [
        {
          "output_type": "display_data",
          "data": {
            "text/plain": [
              "<IPython.core.display.HTML object>"
            ],
            "text/html": [
              "\n",
              "     <input type=\"file\" id=\"files-36715df8-4aba-4ff2-9df6-afbf001dbfad\" name=\"files[]\" multiple disabled\n",
              "        style=\"border:none\" />\n",
              "     <output id=\"result-36715df8-4aba-4ff2-9df6-afbf001dbfad\">\n",
              "      Upload widget is only available when the cell has been executed in the\n",
              "      current browser session. Please rerun this cell to enable.\n",
              "      </output>\n",
              "      <script>// Copyright 2017 Google LLC\n",
              "//\n",
              "// Licensed under the Apache License, Version 2.0 (the \"License\");\n",
              "// you may not use this file except in compliance with the License.\n",
              "// You may obtain a copy of the License at\n",
              "//\n",
              "//      http://www.apache.org/licenses/LICENSE-2.0\n",
              "//\n",
              "// Unless required by applicable law or agreed to in writing, software\n",
              "// distributed under the License is distributed on an \"AS IS\" BASIS,\n",
              "// WITHOUT WARRANTIES OR CONDITIONS OF ANY KIND, either express or implied.\n",
              "// See the License for the specific language governing permissions and\n",
              "// limitations under the License.\n",
              "\n",
              "/**\n",
              " * @fileoverview Helpers for google.colab Python module.\n",
              " */\n",
              "(function(scope) {\n",
              "function span(text, styleAttributes = {}) {\n",
              "  const element = document.createElement('span');\n",
              "  element.textContent = text;\n",
              "  for (const key of Object.keys(styleAttributes)) {\n",
              "    element.style[key] = styleAttributes[key];\n",
              "  }\n",
              "  return element;\n",
              "}\n",
              "\n",
              "// Max number of bytes which will be uploaded at a time.\n",
              "const MAX_PAYLOAD_SIZE = 100 * 1024;\n",
              "\n",
              "function _uploadFiles(inputId, outputId) {\n",
              "  const steps = uploadFilesStep(inputId, outputId);\n",
              "  const outputElement = document.getElementById(outputId);\n",
              "  // Cache steps on the outputElement to make it available for the next call\n",
              "  // to uploadFilesContinue from Python.\n",
              "  outputElement.steps = steps;\n",
              "\n",
              "  return _uploadFilesContinue(outputId);\n",
              "}\n",
              "\n",
              "// This is roughly an async generator (not supported in the browser yet),\n",
              "// where there are multiple asynchronous steps and the Python side is going\n",
              "// to poll for completion of each step.\n",
              "// This uses a Promise to block the python side on completion of each step,\n",
              "// then passes the result of the previous step as the input to the next step.\n",
              "function _uploadFilesContinue(outputId) {\n",
              "  const outputElement = document.getElementById(outputId);\n",
              "  const steps = outputElement.steps;\n",
              "\n",
              "  const next = steps.next(outputElement.lastPromiseValue);\n",
              "  return Promise.resolve(next.value.promise).then((value) => {\n",
              "    // Cache the last promise value to make it available to the next\n",
              "    // step of the generator.\n",
              "    outputElement.lastPromiseValue = value;\n",
              "    return next.value.response;\n",
              "  });\n",
              "}\n",
              "\n",
              "/**\n",
              " * Generator function which is called between each async step of the upload\n",
              " * process.\n",
              " * @param {string} inputId Element ID of the input file picker element.\n",
              " * @param {string} outputId Element ID of the output display.\n",
              " * @return {!Iterable<!Object>} Iterable of next steps.\n",
              " */\n",
              "function* uploadFilesStep(inputId, outputId) {\n",
              "  const inputElement = document.getElementById(inputId);\n",
              "  inputElement.disabled = false;\n",
              "\n",
              "  const outputElement = document.getElementById(outputId);\n",
              "  outputElement.innerHTML = '';\n",
              "\n",
              "  const pickedPromise = new Promise((resolve) => {\n",
              "    inputElement.addEventListener('change', (e) => {\n",
              "      resolve(e.target.files);\n",
              "    });\n",
              "  });\n",
              "\n",
              "  const cancel = document.createElement('button');\n",
              "  inputElement.parentElement.appendChild(cancel);\n",
              "  cancel.textContent = 'Cancel upload';\n",
              "  const cancelPromise = new Promise((resolve) => {\n",
              "    cancel.onclick = () => {\n",
              "      resolve(null);\n",
              "    };\n",
              "  });\n",
              "\n",
              "  // Wait for the user to pick the files.\n",
              "  const files = yield {\n",
              "    promise: Promise.race([pickedPromise, cancelPromise]),\n",
              "    response: {\n",
              "      action: 'starting',\n",
              "    }\n",
              "  };\n",
              "\n",
              "  cancel.remove();\n",
              "\n",
              "  // Disable the input element since further picks are not allowed.\n",
              "  inputElement.disabled = true;\n",
              "\n",
              "  if (!files) {\n",
              "    return {\n",
              "      response: {\n",
              "        action: 'complete',\n",
              "      }\n",
              "    };\n",
              "  }\n",
              "\n",
              "  for (const file of files) {\n",
              "    const li = document.createElement('li');\n",
              "    li.append(span(file.name, {fontWeight: 'bold'}));\n",
              "    li.append(span(\n",
              "        `(${file.type || 'n/a'}) - ${file.size} bytes, ` +\n",
              "        `last modified: ${\n",
              "            file.lastModifiedDate ? file.lastModifiedDate.toLocaleDateString() :\n",
              "                                    'n/a'} - `));\n",
              "    const percent = span('0% done');\n",
              "    li.appendChild(percent);\n",
              "\n",
              "    outputElement.appendChild(li);\n",
              "\n",
              "    const fileDataPromise = new Promise((resolve) => {\n",
              "      const reader = new FileReader();\n",
              "      reader.onload = (e) => {\n",
              "        resolve(e.target.result);\n",
              "      };\n",
              "      reader.readAsArrayBuffer(file);\n",
              "    });\n",
              "    // Wait for the data to be ready.\n",
              "    let fileData = yield {\n",
              "      promise: fileDataPromise,\n",
              "      response: {\n",
              "        action: 'continue',\n",
              "      }\n",
              "    };\n",
              "\n",
              "    // Use a chunked sending to avoid message size limits. See b/62115660.\n",
              "    let position = 0;\n",
              "    do {\n",
              "      const length = Math.min(fileData.byteLength - position, MAX_PAYLOAD_SIZE);\n",
              "      const chunk = new Uint8Array(fileData, position, length);\n",
              "      position += length;\n",
              "\n",
              "      const base64 = btoa(String.fromCharCode.apply(null, chunk));\n",
              "      yield {\n",
              "        response: {\n",
              "          action: 'append',\n",
              "          file: file.name,\n",
              "          data: base64,\n",
              "        },\n",
              "      };\n",
              "\n",
              "      let percentDone = fileData.byteLength === 0 ?\n",
              "          100 :\n",
              "          Math.round((position / fileData.byteLength) * 100);\n",
              "      percent.textContent = `${percentDone}% done`;\n",
              "\n",
              "    } while (position < fileData.byteLength);\n",
              "  }\n",
              "\n",
              "  // All done.\n",
              "  yield {\n",
              "    response: {\n",
              "      action: 'complete',\n",
              "    }\n",
              "  };\n",
              "}\n",
              "\n",
              "scope.google = scope.google || {};\n",
              "scope.google.colab = scope.google.colab || {};\n",
              "scope.google.colab._files = {\n",
              "  _uploadFiles,\n",
              "  _uploadFilesContinue,\n",
              "};\n",
              "})(self);\n",
              "</script> "
            ]
          },
          "metadata": {}
        },
        {
          "output_type": "stream",
          "name": "stdout",
          "text": [
            "Saving 0004.jpg to 0004.jpg\n",
            "1/1 [==============================] - 0s 15ms/step\n",
            "0004.jpg\n",
            "Ini Adalah Tomato\n"
          ]
        },
        {
          "output_type": "display_data",
          "data": {
            "text/plain": [
              "<Figure size 432x288 with 1 Axes>"
            ],
            "image/png": "[encoded data removed]"
          },
          "metadata": {
            "needs_background": "light"
          }
        }
      ]
    },
    {
      "cell_type": "code",
      "source": [
        "#Accuracy Plot Grafik\n",
        "plt.plot(plot.history['accuracy'], label='Training Accuracy')\n",
        "plt.plot(plot.history['val_accuracy'], label='Validation Accuracy')\n",
        "plt.title('Accuracy Graphics')\n",
        "plt.ylabel('Accuracy')\n",
        "plt.xlabel('Epoh')\n",
        "plt.legend(loc=\"lower right\")\n",
        "plt.show()\n",
        "print(\"\")\n",
        "#Loss Plot Grafik\n",
        "plt.plot(plot.history['loss'], label='Loss Training')\n",
        "plt.plot(plot.history['val_loss'], label='Loss Validation')\n",
        "plt.title('Graphics Loss')\n",
        "plt.ylabel('Loss Value')\n",
        "plt.xlabel('Epoh')\n",
        "plt.legend(loc=\"upper right\")\n",
        "plt.show()"
      ],
      "metadata": {
        "id": "abwSabq5np0d",
        "colab": {
          "base_uri": "https://localhost:8080/",
          "height": 573
        },
        "outputId": "1ce2b1f2-0058-4744-e315-dea8503db773"
      },
      "execution_count": null,
      "outputs": [
        {
          "output_type": "display_data",
          "data": {
            "text/plain": [
              "<Figure size 432x288 with 1 Axes>"
            ],
            "image/png": "[encoded data removed]"
          },
          "metadata": {
            "needs_background": "light"
          }
        },
        {
          "output_type": "display_data",
          "data": {
            "text/plain": [
              "<Figure size 432x288 with 1 Axes>"
            ],
            "image/png": "[encoded data removed]"
          },
          "metadata": {
            "needs_background": "light"
          }
        }
      ]
    },
    {
      "cell_type": "code",
      "source": [
        "#Convert to tf lite\n",
        "converter = tf.lite.TFLiteConverter.from_keras_model(model)\n",
        "tflite_model = converter.convert()\n",
        "\n",
        "#save \n",
        "with tf.io.gfile.GFile('model.tflite', 'wb') as f:\n",
        "  f.write(tflite_model)"
      ],
      "metadata": {
        "colab": {
          "base_uri": "https://localhost:8080/"
        },
        "id": "6Y5TYISK6WZF",
        "outputId": "4c0f8357-b8da-4c0f-ee20-62928a8a9b0b"
      },
      "execution_count": null,
      "outputs": [
        {
          "output_type": "stream",
          "name": "stderr",
          "text": [
            "WARNING:absl:Found untraced functions such as _jit_compiled_convolution_op, _jit_compiled_convolution_op, _jit_compiled_convolution_op, _jit_compiled_convolution_op while saving (showing 4 of 4). These functions will not be directly callable after loading.\n"
          ]
        }
      ]
    }
  ]
}